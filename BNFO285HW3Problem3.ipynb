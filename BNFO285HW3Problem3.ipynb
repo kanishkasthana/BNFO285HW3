{
 "cells": [
  {
   "cell_type": "markdown",
   "metadata": {},
   "source": [
    "<h2>R Notebook for Second Problem Kanishk Asthana kasthana@eng.ucsd.edu"
   ]
  },
  {
   "cell_type": "markdown",
   "metadata": {},
   "source": [
    "Reading in data for homework"
   ]
  },
  {
   "cell_type": "code",
   "execution_count": 1,
   "metadata": {
    "collapsed": true
   },
   "outputs": [],
   "source": [
    "data=read.csv(\"BNFO285_HW3_P3.csv\")"
   ]
  },
  {
   "cell_type": "code",
   "execution_count": 2,
   "metadata": {
    "collapsed": false
   },
   "outputs": [
    {
     "data": {
      "text/html": [
       "<table>\n",
       "<thead><tr><th></th><th scope=col>X</th><th scope=col>x</th></tr></thead>\n",
       "<tbody>\n",
       "\t<tr><th scope=row>1</th><td>1</td><td>23</td></tr>\n",
       "\t<tr><th scope=row>2</th><td>2</td><td>22</td></tr>\n",
       "\t<tr><th scope=row>3</th><td>3</td><td>30</td></tr>\n",
       "\t<tr><th scope=row>4</th><td>4</td><td>17</td></tr>\n",
       "\t<tr><th scope=row>5</th><td>5</td><td>26</td></tr>\n",
       "\t<tr><th scope=row>6</th><td>6</td><td>16</td></tr>\n",
       "</tbody>\n",
       "</table>\n"
      ],
      "text/latex": [
       "\\begin{tabular}{r|ll}\n",
       "  & X & x\\\\\n",
       "\\hline\n",
       "\t1 & 1 & 23\\\\\n",
       "\t2 & 2 & 22\\\\\n",
       "\t3 & 3 & 30\\\\\n",
       "\t4 & 4 & 17\\\\\n",
       "\t5 & 5 & 26\\\\\n",
       "\t6 & 6 & 16\\\\\n",
       "\\end{tabular}\n"
      ],
      "text/plain": [
       "  X  x\n",
       "1 1 23\n",
       "2 2 22\n",
       "3 3 30\n",
       "4 4 17\n",
       "5 5 26\n",
       "6 6 16"
      ]
     },
     "execution_count": 2,
     "metadata": {},
     "output_type": "execute_result"
    }
   ],
   "source": []
  },
  {
   "cell_type": "code",
   "execution_count": null,
   "metadata": {
    "collapsed": true
   },
   "outputs": [],
   "source": []
  }
 ],
 "metadata": {
  "kernelspec": {
   "display_name": "R",
   "language": "R",
   "name": "ir"
  },
  "language_info": {
   "codemirror_mode": "r",
   "file_extension": ".r",
   "mimetype": "text/x-r-source",
   "name": "R",
   "pygments_lexer": "r",
   "version": "3.2.2"
  }
 },
 "nbformat": 4,
 "nbformat_minor": 0
}
