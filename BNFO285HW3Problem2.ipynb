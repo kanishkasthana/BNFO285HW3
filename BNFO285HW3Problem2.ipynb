{
 "cells": [
  {
   "cell_type": "markdown",
   "metadata": {},
   "source": [
    "<h2> R Notebook for second problem. Kanishk Asthana kasthana@eng.ucsd.edu"
   ]
  },
  {
   "cell_type": "markdown",
   "metadata": {},
   "source": [
    "The Likelihood ratio test (LRT) can be used to test for significance between fits of two nested models one usually with more parameters then the other. In the case of this example the Hypothesis H1 and H0 are indeed nested models because H1 is also a case of multinomial instead it has one extra parameter then the first case."
   ]
  },
  {
   "cell_type": "code",
   "execution_count": 1,
   "metadata": {
    "collapsed": false
   },
   "outputs": [
    {
     "name": "stdout",
     "output_type": "stream",
     "text": [
      "              M  MN   N\n",
      "Frequencies 347 521 179\n"
     ]
    }
   ],
   "source": [
    "#Inputing data from problem\n",
    "data=as.data.frame(t(c(347,521,179)))\n",
    "colnames(data)=c(\"M\",\"MN\",\"N\")\n",
    "rownames(data)=c(\"Frequencies\")\n",
    "print(data)"
   ]
  },
  {
   "cell_type": "markdown",
   "metadata": {},
   "source": [
    "For the LRT we need to compute the log likelihood under H1 and H0 distribution using parameters obtained under maximum likelihood estimate for those distributions. We know how to compute $\\Theta$ for H0. From the last homework we know: \n",
    "\\begin{equation}\n",
    "\\Theta=\\frac{2x_1 +x_2}{2n}\n",
    "\\end{equation}\n",
    "Where $n=x_1+x_2+x_3$ . In our case $x_1=M$, $x_2=MN$ and $x_3=N$.\n",
    "We calculate $\\Theta$ in the following code:"
   ]
  },
  {
   "cell_type": "code",
   "execution_count": 2,
   "metadata": {
    "collapsed": false
   },
   "outputs": [
    {
     "name": "stdout",
     "output_type": "stream",
     "text": [
      "     Theta   1-Theta\n",
      " 0.5802292 0.4197708\n"
     ]
    }
   ],
   "source": [
    "theta=(2*data[\"M\"]+data[\"MN\"])/(2*sum(data))\n",
    "thetas=cbind(theta,1-theta)\n",
    "colnames(thetas)=c(\"Theta\",\"1-Theta\")\n",
    "rownames(thetas)=\"\"\n",
    "print(thetas)"
   ]
  },
  {
   "cell_type": "markdown",
   "metadata": {},
   "source": [
    "We now need to compute the parameters $\\alpha$ and $\\beta$ for the multinomial distribution represented by H1\n",
    "\n",
    "Using this [reference](http://statweb.stanford.edu/~susan/courses/s200/lectures/lect11.pdf \"Reference\") we see that the estimated parameters $\\hat{p}s$ for this distribution can be calculated as :\n",
    "\\begin{equation}\n",
    "\\hat{p}_i=\\frac{x_i}{n}\n",
    "\\end{equation}\n",
    "Calculating $\\hat{p}s$ we get:"
   ]
  },
  {
   "cell_type": "code",
   "execution_count": 3,
   "metadata": {
    "collapsed": false
   },
   "outputs": [
    {
     "name": "stdout",
     "output_type": "stream",
     "text": [
      "     Alpha      Beta 1-Alpha-Beta\n",
      " 0.3314231 0.4976122    0.1709647\n"
     ]
    }
   ],
   "source": [
    "p_hatsH1=data/sum(data)\n",
    "colnames(p_hatsH1)=c(\"Alpha\",\"Beta\",\"1-Alpha-Beta\")\n",
    "rownames(p_hatsH1)=\"\"\n",
    "print(p_hatsH1)"
   ]
  },
  {
   "cell_type": "markdown",
   "metadata": {},
   "source": [
    "To compute Log Likelihood for the two distribution we can define a function that gets the Log likelihood for a multinomial distribution in general. The log likelihood for a multinomial distribution is :\n",
    "\\begin{equation}\n",
    "l=\\log{\\frac{n!}{\\prod_{i=1}^{k}x_i!}\\prod_{i=1}^{k}p_i^{x_i}}\n",
    "\\end{equation}\n",
    "Moreover, here  $$n=\\sum_{i=1}^{k}x_i$$"
   ]
  },
  {
   "cell_type": "code",
   "execution_count": 4,
   "metadata": {
    "collapsed": true
   },
   "outputs": [],
   "source": [
    "#Defining a function that computes the likelihood for the multinomial distribution using an input vector of Xs and Ps(defined above)\n",
    "getLogLikelihood=function(P,X){\n",
    "  P=as.numeric(P)\n",
    "  X=as.numeric(X)\n",
    "  return(log(dmultinom(x=X,prob=P)))  \n",
    "}"
   ]
  },
  {
   "cell_type": "markdown",
   "metadata": {},
   "source": [
    "Defining Vector X for calculating Log Likelihoods"
   ]
  },
  {
   "cell_type": "code",
   "execution_count": 5,
   "metadata": {
    "collapsed": false
   },
   "outputs": [],
   "source": [
    "X=as.numeric(data)"
   ]
  },
  {
   "cell_type": "markdown",
   "metadata": {},
   "source": [
    "Defining vector P_H0 for H0. We know the Ps are given by $\\Theta^2$, $2\\Theta(1-\\Theta)$ and $(1-\\Theta)^2$ for H1"
   ]
  },
  {
   "cell_type": "code",
   "execution_count": 6,
   "metadata": {
    "collapsed": false
   },
   "outputs": [
    {
     "name": "stdout",
     "output_type": "stream",
     "text": [
      "       p1        p2        p3\n",
      " 0.336666 0.4871265 0.1762075\n"
     ]
    }
   ],
   "source": [
    "p_hatsH0=cbind(theta^2,2*theta*(1-theta),(1-theta)^2)\n",
    "colnames(p_hatsH0)=c(\"p1\",\"p2\",\"p3\")\n",
    "rownames(p_hatsH0)=\"\"\n",
    "print(p_hatsH0)"
   ]
  },
  {
   "cell_type": "markdown",
   "metadata": {},
   "source": [
    "Calculating Log Likelihood for H0"
   ]
  },
  {
   "cell_type": "code",
   "execution_count": 7,
   "metadata": {
    "collapsed": false
   },
   "outputs": [
    {
     "name": "stdout",
     "output_type": "stream",
     "text": [
      "[1] -7.250822\n"
     ]
    }
   ],
   "source": [
    "logLikelihoodH0=getLogLikelihood(p_hatsH0,X)\n",
    "print(logLikelihoodH0)"
   ]
  },
  {
   "cell_type": "markdown",
   "metadata": {},
   "source": [
    "Calculating the Log Likelihood for H1"
   ]
  },
  {
   "cell_type": "code",
   "execution_count": 8,
   "metadata": {
    "collapsed": false
   },
   "outputs": [
    {
     "name": "stdout",
     "output_type": "stream",
     "text": [
      "[1] -7.008051\n"
     ]
    }
   ],
   "source": [
    "logLikelihoodH1=getLogLikelihood(p_hatsH1,X)\n",
    "print(logLikelihoodH1)"
   ]
  },
  {
   "cell_type": "code",
   "execution_count": null,
   "metadata": {
    "collapsed": true
   },
   "outputs": [],
   "source": []
  }
 ],
 "metadata": {
  "kernelspec": {
   "display_name": "R",
   "language": "R",
   "name": "ir"
  },
  "language_info": {
   "codemirror_mode": "r",
   "file_extension": ".r",
   "mimetype": "text/x-r-source",
   "name": "R",
   "pygments_lexer": "r",
   "version": "3.2.2"
  }
 },
 "nbformat": 4,
 "nbformat_minor": 0
}
