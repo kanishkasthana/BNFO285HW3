{
 "cells": [
  {
   "cell_type": "markdown",
   "metadata": {},
   "source": [
    "<h2> R Notebook for second problem. Kanishk Asthana kasthana@eng.ucsd.edu"
   ]
  },
  {
   "cell_type": "markdown",
   "metadata": {},
   "source": [
    "The Likelihood ratio test (LRT) can be used to test for significance between fits of two nested models one usually with more parameters then the other. In the case of this example the Hypothesis H1 and H0 are indeed nested models because H1 is also a case of multinomial instead it has one extra parameter then the first case."
   ]
  },
  {
   "cell_type": "code",
   "execution_count": 17,
   "metadata": {
    "collapsed": false
   },
   "outputs": [
    {
     "name": "stdout",
     "output_type": "stream",
     "text": [
      "              M  MN   N\n",
      "Frequencies 347 521 179\n"
     ]
    }
   ],
   "source": [
    "#Inputing data from problem\n",
    "data=as.data.frame(t(c(347,521,179)))\n",
    "colnames(data)=c(\"M\",\"MN\",\"N\")\n",
    "rownames(data)=c(\"Frequencies\")\n",
    "print(data)"
   ]
  },
  {
   "cell_type": "markdown",
   "metadata": {},
   "source": [
    "For the LRT we need to compute the log likelihood under H1 and H0 distribution using parameters obtained under maximum likelihood estimate for those distributions. We know how to compute $\\Theta$ for H0. From the last homework we know: \n",
    "\\begin{equation}\n",
    "\\Theta=\\frac{2x_1 +x_2}{2n}\n",
    "\\end{equation}\n",
    "Where $n=x_1+x_2+x_3$ . In our case $x_1=M$, $x_2=MN$ and $x_3=N$.\n",
    "We calculate $\\Theta$ in the following code:"
   ]
  },
  {
   "cell_type": "code",
   "execution_count": 18,
   "metadata": {
    "collapsed": false
   },
   "outputs": [
    {
     "name": "stdout",
     "output_type": "stream",
     "text": [
      "     Theta   1-Theta\n",
      " 0.5802292 0.4197708\n"
     ]
    }
   ],
   "source": [
    "theta=(2*data[\"M\"]+data[\"MN\"])/(2*sum(data))\n",
    "theta=cbind(theta,1-theta)\n",
    "colnames(theta)=c(\"Theta\",\"1-Theta\")\n",
    "rownames(theta)=\"\"\n",
    "print(theta)"
   ]
  },
  {
   "cell_type": "markdown",
   "metadata": {},
   "source": [
    "We now need to compute the parameters $\\alpha$ and $\\beta$ for the multinomial distribution represented by H1\n",
    "\n",
    "Using this [reference](http://statweb.stanford.edu/~susan/courses/s200/lectures/lect11.pdf \"Reference\") we see that the estimated parameters $\\hat{p}s$ for this distribution can be calculated as :\n",
    "\\begin{equation}\n",
    "\\hat{p}_i=\\frac{x_i}{n}\n",
    "\\end{equation}\n",
    "Calculating $\\hat{p}s$ we get:"
   ]
  },
  {
   "cell_type": "code",
   "execution_count": 19,
   "metadata": {
    "collapsed": false
   },
   "outputs": [
    {
     "name": "stdout",
     "output_type": "stream",
     "text": [
      "                  Alpha      Beta 1-Alpha-Beta\n",
      "P_hats for H1 0.3314231 0.4976122    0.1709647\n"
     ]
    }
   ],
   "source": [
    "p_hatsH1=data/sum(data)\n",
    "colnames(p_hats)=c(\"Alpha\",\"Beta\",\"1-Alpha-Beta\")\n",
    "rownames(p_hats)=c(\"P_hats for H1\")\n",
    "print(p_hats)"
   ]
  },
  {
   "cell_type": "code",
   "execution_count": null,
   "metadata": {
    "collapsed": true
   },
   "outputs": [],
   "source": []
  }
 ],
 "metadata": {
  "kernelspec": {
   "display_name": "R",
   "language": "R",
   "name": "ir"
  },
  "language_info": {
   "codemirror_mode": "r",
   "file_extension": ".r",
   "mimetype": "text/x-r-source",
   "name": "R",
   "pygments_lexer": "r",
   "version": "3.2.2"
  }
 },
 "nbformat": 4,
 "nbformat_minor": 0
}
