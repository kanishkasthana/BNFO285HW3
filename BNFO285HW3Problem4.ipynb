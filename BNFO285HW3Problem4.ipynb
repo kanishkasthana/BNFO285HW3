{
 "cells": [
  {
   "cell_type": "markdown",
   "metadata": {},
   "source": [
    "<h2> R Notebook for fourth problem. Kanishk Asthana kasthana@eng.ucsd.edu"
   ]
  },
  {
   "cell_type": "markdown",
   "metadata": {},
   "source": [
    "The sensitivity is calculated from the distribution of actual patients and is defined as follows : $$Sensitivity=\\frac{TP}{TP+FN}$$\n",
    "We know that Total Patients in this distribution is 32.\n",
    "So $TP=Sensitivity*TotalPatients$\n",
    "or:"
   ]
  },
  {
   "cell_type": "code",
   "execution_count": 1,
   "metadata": {
    "collapsed": false
   },
   "outputs": [
    {
     "name": "stdout",
     "output_type": "stream",
     "text": [
      "[1] 28.8\n"
     ]
    }
   ],
   "source": [
    "TP=0.90*32\n",
    "print(TP)"
   ]
  },
  {
   "cell_type": "markdown",
   "metadata": {},
   "source": [
    "So 29 Patients are True Positives and the Rest 3 Patients are False Negatives"
   ]
  },
  {
   "cell_type": "code",
   "execution_count": 2,
   "metadata": {
    "collapsed": false
   },
   "outputs": [
    {
     "name": "stdout",
     "output_type": "stream",
     "text": [
      "[1] 3\n"
     ]
    }
   ],
   "source": [
    "FN=32-round(TP)\n",
    "print(FN)"
   ]
  },
  {
   "cell_type": "markdown",
   "metadata": {},
   "source": [
    "Moreover, specificity is calculated from the distribution of normal patients and defined as follows:\n",
    "$$Specificity=\\frac{TN}{TN+FP}$$\n",
    "We know Total people in the distribution of Normal people are 103. So $TN=Specificity*TotalNormal$ or:"
   ]
  },
  {
   "cell_type": "code",
   "execution_count": 3,
   "metadata": {
    "collapsed": false
   },
   "outputs": [
    {
     "name": "stdout",
     "output_type": "stream",
     "text": [
      "[1] 97.85\n"
     ]
    }
   ],
   "source": [
    "TN=0.95*103\n",
    "print(TN)"
   ]
  },
  {
   "cell_type": "markdown",
   "metadata": {},
   "source": [
    "So 98 Patients are True Negatives and the Rest 5 Patients are False Positives"
   ]
  },
  {
   "cell_type": "code",
   "execution_count": 4,
   "metadata": {
    "collapsed": false
   },
   "outputs": [
    {
     "name": "stdout",
     "output_type": "stream",
     "text": [
      "[1] 5\n"
     ]
    }
   ],
   "source": [
    "FP=103-round(TN)\n",
    "print(FP)"
   ]
  },
  {
   "cell_type": "markdown",
   "metadata": {},
   "source": [
    "The definition of Positive Predictive Value is : \n",
    "$$PPV=\\frac{TP}{TP+FP}$$\n",
    "This gives us a PPV of:"
   ]
  },
  {
   "cell_type": "code",
   "execution_count": 7,
   "metadata": {
    "collapsed": false
   },
   "outputs": [
    {
     "name": "stdout",
     "output_type": "stream",
     "text": [
      "[1] 0.852071\n"
     ]
    }
   ],
   "source": [
    "PPV=TP/(TP+FP)\n",
    "print(PPV)"
   ]
  },
  {
   "cell_type": "markdown",
   "metadata": {},
   "source": [
    "85% Approximately"
   ]
  },
  {
   "cell_type": "code",
   "execution_count": null,
   "metadata": {
    "collapsed": true
   },
   "outputs": [],
   "source": []
  }
 ],
 "metadata": {
  "kernelspec": {
   "display_name": "R",
   "language": "R",
   "name": "ir"
  },
  "language_info": {
   "codemirror_mode": "r",
   "file_extension": ".r",
   "mimetype": "text/x-r-source",
   "name": "R",
   "pygments_lexer": "r",
   "version": "3.2.2"
  }
 },
 "nbformat": 4,
 "nbformat_minor": 0
}
