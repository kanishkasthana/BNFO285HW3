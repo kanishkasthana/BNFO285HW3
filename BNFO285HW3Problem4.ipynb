{
 "cells": [
  {
   "cell_type": "markdown",
   "metadata": {},
   "source": [
    "<h2> R Notebook for fourth problem. Kanishk Asthana kasthana@eng.ucsd.edu"
   ]
  },
  {
   "cell_type": "markdown",
   "metadata": {},
   "source": [
    "The sensitivity is calculated from the distribution of actual patients and is defined as follows : $$Sensitivity=\\frac{TP}{TP+FN}$$\n",
    "We know that Total Patients in this distribution is 32.\n",
    "So $TP=Sensitivity*TotalPatients$\n",
    "or:"
   ]
  },
  {
   "cell_type": "code",
   "execution_count": 2,
   "metadata": {
    "collapsed": false
   },
   "outputs": [
    {
     "name": "stdout",
     "output_type": "stream",
     "text": [
      "[1] 28.8\n"
     ]
    }
   ],
   "source": [
    "TP=0.90*32\n",
    "print(TP)"
   ]
  },
  {
   "cell_type": "markdown",
   "metadata": {},
   "source": [
    "So 29 Patients are True Positives and the Rest 3 Patients are False Negatives"
   ]
  },
  {
   "cell_type": "markdown",
   "metadata": {},
   "source": [
    "Moreover, specificity is calculated from the distribution of normal patients and defined as follows:\n",
    "$$Specificity=\\frac{TN}{TN+FP}$$\n",
    "We know Total people in the distribution of Normal people are 103. So $TN=Specificity*TotalNormal$ or:"
   ]
  },
  {
   "cell_type": "code",
   "execution_count": 5,
   "metadata": {
    "collapsed": false
   },
   "outputs": [
    {
     "name": "stdout",
     "output_type": "stream",
     "text": [
      "[1] 97.85\n"
     ]
    }
   ],
   "source": [
    "TN=0.95*103\n",
    "print(TN)"
   ]
  },
  {
   "cell_type": "markdown",
   "metadata": {},
   "source": [
    "So 98 Patients are True Negatives and the Rest 5 Patients are False Positives"
   ]
  },
  {
   "cell_type": "code",
   "execution_count": null,
   "metadata": {
    "collapsed": true
   },
   "outputs": [],
   "source": []
  }
 ],
 "metadata": {
  "kernelspec": {
   "display_name": "R",
   "language": "R",
   "name": "ir"
  },
  "language_info": {
   "codemirror_mode": "r",
   "file_extension": ".r",
   "mimetype": "text/x-r-source",
   "name": "R",
   "pygments_lexer": "r",
   "version": "3.2.2"
  }
 },
 "nbformat": 4,
 "nbformat_minor": 0
}
